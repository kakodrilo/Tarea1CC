{
 "cells": [
  {
   "cell_type": "code",
   "execution_count": 1,
   "metadata": {},
   "outputs": [],
   "source": [
    "import numpy as np\n",
    "import sympy as sp\n",
    "from PIL import Image\n",
    "from scipy import interpolate\n",
    "import matplotlib.pyplot as plt\n",
    "import time as Time\n",
    "from skimage.metrics import structural_similarity"
   ]
  },
  {
   "cell_type": "markdown",
   "metadata": {},
   "source": [
    "## Nombre: Joaquín Castillo Tapia\n",
    "### rol : 201773520-1"
   ]
  },
  {
   "cell_type": "markdown",
   "metadata": {},
   "source": [
    "# Tarea 3:Interpolación Bicúbica"
   ]
  },
  {
   "cell_type": "markdown",
   "metadata": {},
   "source": [
    "## Instrucciones\n",
    "\n",
    "* La tarea es individual.\n",
    "* Las consultas sobre las tareas se deben realizar por medio de la plataforma Aula.\n",
    "* La tarea debe ser realizada en `Jupyter Notebook` (`Python3`).\n",
    "* Se evaluará la correcta utilización de librerias `NumPy`, `SciPy`, entre otras, así como la correcta implementación de algoritmos de forma vectorizada.\n",
    "*  **El archivo de entrega debe denominarse ROL-tarea-numero.ipynb**. _De no respetarse este formato existirá un descuento de **50 puntos**_\n",
    "* La fecha de entrega es el viernes 24 de Julio a las **18:00 hrs**.  Se aceptarán entregas hasta las 19:00 hrs sin descuento en caso de existir algun problema, posteriormente existirá un descuento lineal hasta las 20:00 hrs del mismo día.\n",
    "* Las tareas que sean entregadas antes del jueves a mediodía recibirán una bonificación de 10 puntos\n",
    "* Debe citar cualquier código ajeno utilizado (incluso si proviene de los Jupyter Notebooks del curso).\n"
   ]
  },
  {
   "cell_type": "markdown",
   "metadata": {},
   "source": [
    "## Introducción"
   ]
  },
  {
   "cell_type": "markdown",
   "metadata": {},
   "source": [
    "En la siguiente tarea estudiaremos un método de interpolación denominado **Interpolación Bicúbica**, utilizada frecuentemente sobre imágenes. Aplicaremos el método para aumentar la resolución de una imagen intentando preservar las propiedades de la versión original."
   ]
  },
  {
   "cell_type": "markdown",
   "metadata": {},
   "source": [
    "## Contexto"
   ]
  },
  {
   "cell_type": "markdown",
   "metadata": {},
   "source": [
    "Supongamos que usted conoce $f$ y las derivadas $f_x$, $f_y$ y $f_{xy}$ dentro de las coordenadas $(0,0),(0,1),(1,0)$ y $(1,1)$ de un cuadrado unitario. La superficie que interpola estos 4 puntos es:\n",
    "\n",
    "$$\n",
    "p(x,y) = \\sum\\limits_{i=0}^3 \\sum_{j=0}^3 a_{ij} x^i y^j.\n",
    "$$\n",
    "\n",
    "Como se puede observar el problema de interpolación se resume en determinar los 16 coeficientes $a_{ij}$ y para esto se genera un total de $16$ ecuaciones utilizando los valores conocidos de $f$,$f_x$,$f_y$ y $f_{xy}$. Por ejemplo, las primeras $4$ ecuaciones son:\n",
    "\n",
    "$$\n",
    "\\begin{aligned}\n",
    "f(0,0)&=p(0,0)=a_{00},\\\\\n",
    "f(1,0)&=p(1,0)=a_{00}+a_{10}+a_{20}+a_{30},\\\\\n",
    "f(0,1)&=p(0,1)=a_{00}+a_{01}+a_{02}+a_{03},\\\\\n",
    "f(1,1)&=p(1,1)=\\textstyle \\sum \\limits _{i=0}^{3}\\sum \\limits _{j=0}^{3}a_{ij}.\n",
    "\\end{aligned}\n",
    "$$\n",
    "\n",
    "Para las $12$ ecuaciones restantes se debe utilizar:\n",
    "\n",
    "$$\n",
    "\\begin{aligned}\n",
    "f_{x}(x,y)&=p_{x}(x,y)=\\textstyle \\sum \\limits _{i=1}^{3}\\sum \\limits _{j=0}^{3}a_{ij}ix^{i-1}y^{j},\\\\\n",
    "f_{y}(x,y)&=p_{y}(x,y)=\\textstyle \\sum \\limits _{i=0}^{3}\\sum \\limits _{j=1}^{3}a_{ij}x^{i}jy^{j-1},\\\\\n",
    "f_{xy}(x,y)&=p_{xy}(x,y)=\\textstyle \\sum \\limits _{i=1}^{3}\\sum \\limits _{j=1}^{3}a_{ij}ix^{i-1}jy^{j-1}.\n",
    "\\end{aligned}\n",
    "$$\n",
    "\n",
    "\n",
    "Una vez planteadas las ecuaciones, los coeficientes se pueden obtener al resolver el problema $A\\alpha=x$, donde $\\alpha=\\left[\\begin{smallmatrix}a_{00}&a_{10}&a_{20}&a_{30}&a_{01}&a_{11}&a_{21}&a_{31}&a_{02}&a_{12}&a_{22}&a_{32}&a_{03}&a_{13}&a_{23}&a_{33}\\end{smallmatrix}\\right]^T$ y ${\\displaystyle x=\\left[{\\begin{smallmatrix}f(0,0)&f(1,0)&f(0,1)&f(1,1)&f_{x}(0,0)&f_{x}(1,0)&f_{x}(0,1)&f_{x}(1,1)&f_{y}(0,0)&f_{y}(1,0)&f_{y}(0,1)&f_{y}(1,1)&f_{xy}(0,0)&f_{xy}(1,0)&f_{xy}(0,1)&f_{xy}(1,1)\\end{smallmatrix}}\\right]^{T}}$.\n"
   ]
  },
  {
   "cell_type": "markdown",
   "metadata": {},
   "source": [
    "En un contexto más aplicado, podemos hacer uso de la interpolación bicúbica para aumentar la resolución de una imagen. Supongamos que tenemos la siguiente imagen de tamaño $5 \\times 5$:"
   ]
  },
  {
   "cell_type": "markdown",
   "metadata": {},
   "source": [
    "<img src=\"img1.png\" width=\"20%\"/>"
   ]
  },
  {
   "cell_type": "markdown",
   "metadata": {},
   "source": [
    "Podemos ir tomando segmentos de la imagen de tamaño $2 \\times 2$ de la siguiente forma:"
   ]
  },
  {
   "cell_type": "markdown",
   "metadata": {},
   "source": [
    "<img src=\"img2.png\" width=\"50%\"/>"
   ]
  },
  {
   "cell_type": "markdown",
   "metadata": {},
   "source": [
    "Por cada segmento podemos generar una superficie interpoladora mediante el algoritmo de interpolación cubica. Para el ejemplo anterior estariamos generando $16$ superficies interpoladoras distintas. La idea es hacer uso de estas superficies para estimar los valores de los pixeles correspondienets a una imagen más grande. Por ejemplo, la imagen $5 \\times 5$ la podemos convertir a una imagen de $9 \\times 9$ agregando un pixel entre cada par de pixeles originales además de uno en el centro para que no quede un hueco."
   ]
  },
  {
   "cell_type": "markdown",
   "metadata": {},
   "source": [
    "<img src=\"img3.png\" width=\"50%\"/>"
   ]
  },
  {
   "cell_type": "markdown",
   "metadata": {},
   "source": [
    "Aca los pixeles verdes son los mismos que la imagen original y los azules son obtenidos de evaluar cada superficie interpoladora. Notar que existen pixeles azules que se pueden obtener a partir de dos superficies interpoladoras distintas, en esos casos se puede promediar el valor de los pixeles o simplemente dejar uno de los dos. \n",
    "\n",
    "Para trabajar con la interpolación bicubica necesitamos conocer los valores de $f_x$, $f_y$ y $f_{xy}$. En el caso de las imagenes solo tenemos acceso al valor de cada pixel por lo que deberemos estimar cual es el valor de estos. Para estimar $f_x$ haremos lo siguiente:"
   ]
  },
  {
   "cell_type": "markdown",
   "metadata": {},
   "source": [
    "Para estimar el valor de $f_x$ en cada pixel haremos una interpolación con los algoritmos conocidos, usando tres pixels en dirección de las filas, luego derivaremos el polinomio obtenido y finalmente evaluaremos en la posición de interes. La misma idea aplica para $f_y$ solo que ahora interpolaremos en dirección de las columnas."
   ]
  },
  {
   "cell_type": "markdown",
   "metadata": {},
   "source": [
    "<img src=\"img5.png\" width=\"60%\"/>"
   ]
  },
  {
   "cell_type": "markdown",
   "metadata": {},
   "source": [
    "Por ejemplo si queremos obtener el valor de $f_x$ en la posición $(0,0)$ (imagen de la izquierda) entonces haremos una interpolación de Lagrange utilizando los pixeles $(0,0),(0,1)$ y $(0,2)$. Derivaremos el polinomio interpolador y evaluaremos en $(0,0)$. Por otro lado si queremos obtener el valor de $f_y$ en la posición $(0,0)$ (imagen de la derecha) entonces interpolaremos los pixeles $(0,0),(1,0)$ y $(2,0)$. Luego derivaremos el polinomio interpolador y evaluaremos en $(0,0)$."
   ]
  },
  {
   "cell_type": "markdown",
   "metadata": {},
   "source": [
    "Para obtener $f_{xy}$ seguiremos la idea anterior. Solo que esta vez se utilizaran los valores de $f_y$ y se interpolaran estos en dirección de las filas."
   ]
  },
  {
   "cell_type": "markdown",
   "metadata": {},
   "source": [
    "# Preguntas"
   ]
  },
  {
   "cell_type": "code",
   "execution_count": 2,
   "metadata": {},
   "outputs": [
    {
     "data": {
      "image/png": "[encoded data removed]",
      "text/plain": [
       "<Figure size 432x288 with 1 Axes>"
      ]
     },
     "metadata": {
      "needs_background": "light"
     },
     "output_type": "display_data"
    }
   ],
   "source": [
    "#Codigo para abrir y visualizar imágenes\n",
    "img = Image.open('imagenes_prueba/gradient.png')\n",
    "array=np.array(img)\n",
    "imgplot = plt.imshow(array)\n",
    "plt.show()"
   ]
  },
  {
   "cell_type": "markdown",
   "metadata": {},
   "source": [
    "## 1. Interpolación bicubica"
   ]
  },
  {
   "cell_type": "markdown",
   "metadata": {},
   "source": [
    "### 1.1  Obtener derivadas (30 puntos)\n",
    "\n",
    "Implemente la función `derivativeValues` que reciba como input un arreglo con valores, el método de interpolación y si es que se considera el uso de  los puntos de chebyshev . La función debe retornar un arreglo de igual dimensión con los valores de las derivadas de los puntos obtenidas\n",
    "\n",
    "Los métodos de interpolación serán representados por los siguientes valores\n",
    "\n",
    "* Interpolación de lagrange: `'lagrange'`\n",
    "* Diferencias divididas de Newton: `'newton'`\n",
    "* Spline cubica: `'spline3'`\n"
   ]
  },
  {
   "cell_type": "code",
   "execution_count": 3,
   "metadata": {},
   "outputs": [],
   "source": [
    "# Se utilizan las siguientes funciones vistas en clases:\n",
    "# github.com/tclaudioe/Scientific-Computing/blob/master/SC1/07_Polynomial_Interpolation_1D.ipynb\n",
    "\n",
    "def Chebyshev_points(xmin,xmax,n):\n",
    "    ns = np.arange(1,n+1)\n",
    "    x = np.cos((2*ns-1)*np.pi/(2*n))\n",
    "    return (xmin+xmax)/2 + (xmax-xmin)*x/2\n",
    "\n",
    "def Divided_Differences(x, y):\n",
    "    dd = np.array([y])\n",
    "    for i in range(len(x)-1):\n",
    "        ddi = []\n",
    "        for a in range(len(x)-i-1):\n",
    "            ddi.append((dd[i][a+1]-dd[i][a])/(x[a+i+1]-x[a]))\n",
    "        ddi = np.append(ddi,np.full((len(x)-len(ddi),),0.0))\n",
    "        dd = np.append(dd,[ddi],axis=0)\n",
    "    return np.array(dd)\n",
    "    \n",
    "def Newton(x, y, show=False):\n",
    "    # We calculate the divided differences and store them in a data structure\n",
    "    dd = Divided_Differences(x,y)\n",
    "    \n",
    "    # The function shows the data if the flag is true\n",
    "    if show:\n",
    "        print('Data Points: '); print([(x[i],y[i]) for i in range(len(x))])\n",
    "        xS = sp.Symbol('x')\n",
    "        N = np.dot(dd[:,0],np.append([1],[np.prod(xS-x[:i]) for i in range(1,len(dd))]))\n",
    "        print('Interpolation Function: ');\n",
    "        print(N)\n",
    "        \n",
    "    # Finally, we return a data structure with our interpolating polynomial\n",
    "    D = {'M':'Newton',\n",
    "         'P':dd[:,0],\n",
    "         'x':x,\n",
    "         'y':y}\n",
    "    return D"
   ]
  },
  {
   "cell_type": "code",
   "execution_count": 4,
   "metadata": {},
   "outputs": [],
   "source": [
    "def derivativeValues(values, method, cheb):\n",
    "    \"\"\"\n",
    "    Parameters\n",
    "    ----------\n",
    "    values:    (int array) points values\n",
    "    method:    (string)    interpolation method\n",
    "    cheb:    (boolean)    if chebyshev points are used\n",
    "\n",
    "    Returns\n",
    "    -------\n",
    "    d:    (float array) derivative value of interpolated points\n",
    "\n",
    "    \"\"\"\n",
    "    n = values.size\n",
    "    d = np.zeros(n)\n",
    "    \n",
    "    if cheb: \n",
    "        x = Chebyshev_points(1,n,n)\n",
    "        x = np.sort(x)\n",
    "    else:\n",
    "        x = np.array(range(0, n ))\n",
    "    \n",
    "    if method == 'lagrange':\n",
    "        P = interpolate.lagrange(x, values)\n",
    "        derivada = np.poly1d.deriv(P)\n",
    "        for i in range(n):\n",
    "            d[i] = derivada(x[i])\n",
    "        \n",
    "    elif method == 'newton':\n",
    "        D = Newton(x, values)\n",
    "        P_coef = D['P']\n",
    "        for i in range(n):\n",
    "            derivada = P_coef[1]\n",
    "            # F(x)= (x - x_1)\n",
    "            F = x[i] - x[0] \n",
    "            # F'(x)= 1\n",
    "            Fp = 1 \n",
    "            for j in range(1,n-1):\n",
    "                G = x[i] - x[j]\n",
    "                aux = P_coef[j+1] * (Fp*G + F)\n",
    "                derivada = derivada + aux \n",
    "                Hp = Fp\n",
    "                H = F\n",
    "                Fp = (Hp*G) \n",
    "                Fp = Fp + H\n",
    "                F = H*G\n",
    "                \n",
    "            d[i] = derivada\n",
    "            \n",
    "    elif method == 'spline3':\n",
    "        P = interpolate.CubicSpline(x, values)\n",
    "        derivada = P.derivative()\n",
    "        for i in range(n):\n",
    "            d[i] = derivada(x[i])\n",
    "    \n",
    "    return d"
   ]
  },
  {
   "cell_type": "markdown",
   "metadata": {},
   "source": [
    "\n",
    "### 1.2 Interpolación de imagen (50 puntos)\n",
    "Implemente la función `bicubicInterpolation` que reciba como input la matriz de la imagen y cuantos píxeles extra se quiere agregar entre los píxeles originales y el algoritmo de interpolación a utilizar. La función debe retornar la matriz con la imagen de dimensión nueva. Considere que se debe aplicar el método de interpolación en cada canal RGB por separado."
   ]
  },
  {
   "cell_type": "code",
   "execution_count": 5,
   "metadata": {},
   "outputs": [],
   "source": [
    "# Se definen las siguientes funciones para modularizar el código\n",
    "\n",
    "## Función que crea la matriz de todos los coeficientes necesarios para construir los polinomios P.\n",
    "def matriz_X(A,F,Fx,Fy,Fxy,n):\n",
    "    I = []\n",
    "    for i in range(n-1):\n",
    "        J = []\n",
    "        for j in range(n-1):\n",
    "            \n",
    "            b = np.zeros(16)\n",
    "            \n",
    "            b[0] = F[i][j]\n",
    "            b[1] = F[i+1][j]\n",
    "            b[2] = F[i][j+1]\n",
    "            b[3] = F[i+1][j+1]\n",
    "            \n",
    "            b[4] = Fx[i][j]\n",
    "            b[5] = Fx[i+1][j]\n",
    "            b[6] = Fx[i][j+1]\n",
    "            b[7] = Fx[i+1][j+1]\n",
    "            \n",
    "            b[8] = Fy[i][j]\n",
    "            b[9] = Fy[i+1][j]\n",
    "            b[10] = Fy[i][j+1]\n",
    "            b[11] = Fy[i+1][j+1]\n",
    "            \n",
    "            b[12] = Fxy[i][j]\n",
    "            b[13] = Fxy[i+1][j]\n",
    "            b[14] = Fxy[i][j+1]\n",
    "            b[15] = Fxy[i+1][j+1]\n",
    "        \n",
    "            x = np.linalg.solve(A,b)\n",
    "            \n",
    "            J.append(x)\n",
    "        I.append(J)\n",
    "    \n",
    "    X = np.array(I)\n",
    "\n",
    "    return X\n",
    "\n",
    "## Función que evalua P(x,y) a través del arreglo de coeficientes alpha de P\n",
    "def evaluar_P(coef,x,y):\n",
    "    coef = coef.reshape((4,4))\n",
    "    coef = coef.T\n",
    "    s = 0\n",
    "    for i in range(4):\n",
    "        for j in range(4):\n",
    "            s += (coef[i][j])*(x**i)*(y**j)\n",
    "    return int(s)\n",
    "\n",
    "## Función que comprueba que un número esté entre 0 y 255\n",
    "def comprobar(numero):\n",
    "    if numero < 0:\n",
    "        return 0\n",
    "    elif numero > 255:\n",
    "        return 255\n",
    "    return numero\n",
    "\n",
    "\n",
    "## Función que crea la nueva matriz (de cada canal RGB)\n",
    "## a partir de una matriz de coeficientes y la cantidad de piexels a agregar\n",
    "def newF(Z,n,cantP):\n",
    "    N = np.zeros((n+cantP*(n-1),n+cantP*(n-1)))\n",
    "    valores = np.linspace(0,1,cantP + 2)\n",
    "    for i in range(n-1):\n",
    "        for j in range(n-1):\n",
    "            coef = Z[i][j]\n",
    "            for k in range(valores.size):\n",
    "                for l in range(valores.size):\n",
    "                    N[i*(cantP+1)+k][j*(cantP+1)+l] = comprobar(evaluar_P(coef,valores[k],valores[l]))\n",
    "    return N\n",
    "            "
   ]
  },
  {
   "cell_type": "code",
   "execution_count": 6,
   "metadata": {},
   "outputs": [],
   "source": [
    "def bicubicInterpolation(image, interiorPixels, method,cheb):\n",
    "    \"\"\"\n",
    "    Parameters\n",
    "    ----------\n",
    "    image:\t(nxnx3 array) image array in RGB format\n",
    "    interiorPixels:\t(int)\tinterpolation method\n",
    "    method:\t(string)\tinterpolation method\n",
    "    cheb:\t(boolean)\tif chebyshev points are used\n",
    "\n",
    "\n",
    "    Returns\n",
    "    -------\n",
    "    newImage:\t(nxnx3 array) image array in RGB format\n",
    "\n",
    "    \"\"\"\n",
    "    n = image.shape[0]\n",
    "    aux = image.reshape((n*n,3))\n",
    "    auxT = aux.T\n",
    "    \n",
    "    r = auxT[0].reshape((n,n))\n",
    "    g = auxT[1].reshape((n,n))\n",
    "    b = auxT[2].reshape((n,n))\n",
    "\n",
    "    rx = np.empty((n,n))\n",
    "    ry = np.empty((n,n))\n",
    "    rxy = np.empty((n,n))\n",
    "\n",
    "    gx = np.empty((n,n))\n",
    "    gy = np.empty((n,n))\n",
    "    gxy = np.empty((n,n))\n",
    "\n",
    "    bx = np.empty((n,n))\n",
    "    by = np.empty((n,n))\n",
    "    bxy = np.empty((n,n))\n",
    "    \n",
    "    for j in range(n):\n",
    "        for i in range(1,n-1):\n",
    "            # ROJO\n",
    "            values_r1 = np.array([r[j][i-1],r[j][i],r[j][i+1]],dtype='int')\n",
    "            pr1,pr2,pr3 = derivativeValues(values_r1,method,cheb)\n",
    "\n",
    "            values_r2 = np.array([r[i-1][j],r[i][j],r[i+1][j]],dtype='int')\n",
    "            vr1,vr2,vr3 = derivativeValues(values_r2,method,cheb)\n",
    "\n",
    "            # GREEN\n",
    "            values_g1 = np.array([g[j][i-1],g[j][i],g[j][i+1]],dtype='int')\n",
    "            pg1,pg2,pg3 = derivativeValues(values_g1,method,cheb)\n",
    "\n",
    "            values_g2 = np.array([g[i-1][j],g[i][j],g[i+1][j]],dtype='int')\n",
    "            vg1,vg2,vg3 = derivativeValues(values_g2,method,cheb)\n",
    "\n",
    "            # BLUE\n",
    "            values_b1 = np.array([b[j][i-1],b[j][i],b[j][i+1]],dtype='int')\n",
    "            pb1,pb2,pb3 = derivativeValues(values_b1,method,cheb)\n",
    "\n",
    "            values_b2 = np.array([b[i-1][j],b[i][j],b[i+1][j]],dtype='int')\n",
    "            vb1,vb2,vb3 = derivativeValues(values_b2,method,cheb)\n",
    "            if i == 1:\n",
    "                # RED\n",
    "                rx[j][0] = pr1\n",
    "                rx[j][1] = pr2\n",
    "\n",
    "                ry[0][j] = vr1\n",
    "                ry[1][j] = vr2\n",
    "\n",
    "                # GREEN\n",
    "                gx[j][0] = pg1\n",
    "                gx[j][1] = pg2\n",
    "\n",
    "                gy[0][j] = vg1\n",
    "                gy[1][j] = vg2\n",
    "\n",
    "                # BLUE\n",
    "                bx[j][0] = pb1\n",
    "                bx[j][1] = pb2\n",
    "\n",
    "                by[0][j] = vb1\n",
    "                by[1][j] = vb2\n",
    "\n",
    "            elif i == n-2:\n",
    "                # RED\n",
    "                rx[j][-2] = pr2\n",
    "                rx[j][-1] = pr3\n",
    "\n",
    "                ry[-2][j] = vr2\n",
    "                ry[-1][j] = vr3\n",
    "\n",
    "                # GREEN\n",
    "                gx[j][-2] = pg2\n",
    "                gx[j][-1] = pg3\n",
    "\n",
    "                gy[-2][j] = vg2\n",
    "                gy[-1][j] = vg3\n",
    "\n",
    "                # BLUE\n",
    "                bx[j][-2] = pb2\n",
    "                bx[j][-1] = pb3\n",
    "\n",
    "                by[-2][j] = vb2\n",
    "                by[-1][j] = vb3\n",
    "\n",
    "            else:\n",
    "                # RED\n",
    "                rx[j][i] = pr2\n",
    "\n",
    "                ry[i][j] = vr2\n",
    "\n",
    "                # GREEN\n",
    "                gx[j][i] = pg2\n",
    "\n",
    "                gy[i][j] = vg2\n",
    "\n",
    "                # BLUE\n",
    "                bx[j][i] = pb2\n",
    "\n",
    "                by[i][j] = vb2\n",
    "\n",
    "\n",
    "    for j in range(n):\n",
    "        for i in range(1,n-1):\n",
    "            # RED\n",
    "            values_r = np.array([ry[j][i-1],ry[j][i],ry[j][i+1]],dtype='int')\n",
    "            zr1,zr2,zr3 = derivativeValues(values_r,method,cheb)\n",
    "\n",
    "            # GREEN\n",
    "            values_g = np.array([gy[j][i-1],gy[j][i],gy[j][i+1]],dtype='int')\n",
    "            zg1,zg2,zg3 = derivativeValues(values_g,method,cheb)\n",
    "\n",
    "            # BLUE\n",
    "            values_b = np.array([by[j][i-1],by[j][i],by[j][i+1]],dtype='int')\n",
    "            zb1,zb2,zb3 = derivativeValues(values_b,method,cheb)\n",
    "\n",
    "            if i == 1:\n",
    "                # RED \n",
    "                rxy[j][0] = zr1\n",
    "                rxy[j][1] = zr2\n",
    "\n",
    "                # GREEN \n",
    "                gxy[j][0] = zg1\n",
    "                gxy[j][1] = zg2\n",
    "\n",
    "                # BLUE \n",
    "                bxy[j][0] = zb1\n",
    "                bxy[j][1] = zb2\n",
    "\n",
    "            elif i == n-2:\n",
    "                # RED\n",
    "                rxy[j][-2] = zr2\n",
    "                rxy[j][-1] = zr3\n",
    "\n",
    "                # GREEN\n",
    "                gxy[j][-2] = zg2\n",
    "                gxy[j][-1] = zg3\n",
    "\n",
    "                # BLUE\n",
    "                bxy[j][-2] = zb2\n",
    "                bxy[j][-1] = zb3\n",
    "\n",
    "            else:\n",
    "                # RED\n",
    "                rxy[j][i] = zr2\n",
    "\n",
    "                # GREEN\n",
    "                gxy[j][i] = zg2\n",
    "\n",
    "                # BLUE\n",
    "                bxy[j][i] = zb2\n",
    "\n",
    "\n",
    "    A = [[1, 0, 0, 0, 0, 0, 0, 0, 0, 0, 0, 0, 0, 0, 0, 0],\n",
    "         [1, 1, 1, 1, 0, 0, 0, 0, 0, 0, 0, 0, 0, 0, 0, 0],\n",
    "         [1, 0, 0, 0, 1, 0, 0, 0, 1, 0, 0, 0, 1, 0, 0, 0],\n",
    "         [1, 1, 1, 1, 1, 1, 1, 1, 1, 1, 1, 1, 1, 1, 1, 1],\n",
    "         [0, 1, 0, 0, 0, 0, 0, 0, 0, 0, 0, 0, 0, 0, 0, 0],\n",
    "         [0, 1, 2, 3, 0, 0, 0, 0, 0, 0, 0, 0, 0, 0, 0, 0],\n",
    "         [0, 1, 0, 0, 0, 1, 0, 0, 0, 1, 0, 0, 0, 1, 0, 0],\n",
    "         [0, 1, 2, 3, 0, 1, 2, 3, 0, 1, 2, 3, 0, 1, 2, 3],\n",
    "         [0, 0, 0, 0, 1, 0, 0, 0, 0, 0, 0, 0, 0, 0, 0, 0],\n",
    "         [0, 0, 0, 0, 1, 1, 1, 1, 0, 0, 0, 0, 0, 0, 0, 0],\n",
    "         [0, 0, 0, 0, 1, 0, 0, 0, 2, 0, 0, 0, 3, 0, 0, 0],\n",
    "         [0, 0, 0, 0, 1, 1, 1, 1, 2, 2, 2, 2, 3, 3, 3, 3],\n",
    "         [0, 0, 0, 0, 0, 1, 0, 0, 0, 0, 0, 0, 0, 0, 0, 0],\n",
    "         [0, 0, 0, 0, 0, 1, 2, 3, 0, 0, 0, 0, 0, 0, 0, 0],\n",
    "         [0, 0, 0, 0, 0, 1, 0, 0, 0, 2, 0, 0, 0, 3, 0, 0],\n",
    "         [0, 0, 0, 0, 0, 1, 2, 3, 0, 2, 4, 6, 0, 3, 6, 9]]\n",
    "\n",
    "    A = np.array(A)\n",
    "\n",
    "    Zr = matriz_X(A,r,rx,ry,rxy,n)\n",
    "    Zg = matriz_X(A,g,gx,gy,gxy,n)\n",
    "    Zb = matriz_X(A,b,bx,by,bxy,n)\n",
    "\n",
    "    Nr = newF(Zr,n,interiorPixels)\n",
    "    Ng = newF(Zg,n,interiorPixels)\n",
    "    Nb = newF(Zb,n,interiorPixels)\n",
    "    \n",
    "    new_n = n + interiorPixels*(n-1)\n",
    "    \n",
    "    newR = Nr.reshape(new_n*new_n)\n",
    "    newG = Ng.reshape(new_n*new_n)\n",
    "    newB = Nb.reshape(new_n*new_n)\n",
    "    \n",
    "    newImage = [newR,newG,newB]\n",
    "    newImage = np.array(newImage)\n",
    "    newImage = newImage.T\n",
    "    newImage = newImage.reshape((new_n,new_n,3))\n",
    "    newImage = newImage.astype(int)\n",
    "\n",
    "    return newImage"
   ]
  },
  {
   "cell_type": "markdown",
   "metadata": {},
   "source": [
    "## 2. Evaluacion de algoritmos\n",
    "\n"
   ]
  },
  {
   "cell_type": "markdown",
   "metadata": {},
   "source": [
    "### 2.1 Tiempo de ejecucion \n",
    "Implemente la funcion `timeInterpolation` que mida el tiempo de interpolacion de una imagen dado el algoritmo de interpolacion , en segundos.(5 puntos)"
   ]
  },
  {
   "cell_type": "code",
   "execution_count": 7,
   "metadata": {},
   "outputs": [],
   "source": [
    "def timeInterpolation(image, interiorPixels, method,cheb):\n",
    "    \"\"\"\n",
    "    Parameters\n",
    "    ----------\n",
    "    image:\t(nxnx3 array) image array in RGB format\n",
    "    interiorPixels:\t(int)\tinterpolation method\n",
    "    method:\t(string)\tinterpolation method\n",
    "    cheb:\t(boolean)\tif chebyshev points are used\n",
    "\n",
    "\n",
    "    Returns\n",
    "    -------\n",
    "    time:\t(float) time in seconds\n",
    "\n",
    "    \"\"\"\n",
    "    time_i = Time.time()\n",
    "    newImage = bicubicInterpolation(image,interiorPixels,method,cheb)\n",
    "    time_f = Time.time()\n",
    "    \n",
    "    time = time_f - time_i\n",
    "    \n",
    "    return time"
   ]
  },
  {
   "cell_type": "markdown",
   "metadata": {},
   "source": [
    "***Pregunta: ¿Cual es el metodo que presenta mayor velocidad en general? (5 puntos)***"
   ]
  },
  {
   "cell_type": "markdown",
   "metadata": {},
   "source": [
    "**R.-** Para obtener un mejor análisis se  evaluan las 3 imagenes de prueba, y se considera el promedio de 3 escenarios: agregar 1, 2 y 3 pixeles internos. "
   ]
  },
  {
   "cell_type": "markdown",
   "metadata": {},
   "source": [
    "### Luego de la ejecución se comentaron los bloques de código para no generar problemas en la revisón."
   ]
  },
  {
   "cell_type": "code",
   "execution_count": 8,
   "metadata": {},
   "outputs": [],
   "source": [
    "'''\n",
    "img = Image.open('imagenes_prueba/gradient.png')\n",
    "imagen1 = np.array(img)\n",
    "img = Image.open('imagenes_prueba/cat.png').convert('RGB')\n",
    "imagen2 = np.array(img)\n",
    "img = Image.open('imagenes_prueba/sunset.png')\n",
    "imagen3 = np.array(img)\n",
    "'''"
   ]
  },
  {
   "cell_type": "code",
   "execution_count": 9,
   "metadata": {},
   "outputs": [],
   "source": [
    "## Función que evalúa una imagen con los 3 métodos para distintos casos. \n",
    "## Construye un gráfico de comparación e indica en promedio cúal es el menor.\n",
    "def tiempo(imagen):\n",
    "\n",
    "    m = [\"lagrange\",\"newton\",\"spline3\"]\n",
    "\n",
    "    te_min = float(\"inf\")\n",
    "    tc_min = float(\"inf\")\n",
    "\n",
    "    me = \"\"\n",
    "    mc = \"\"\n",
    "\n",
    "    y_e = []\n",
    "    y_c = []\n",
    "    \n",
    "    for i in m:\n",
    "        t_e = 0\n",
    "        t_c = 0\n",
    "        \n",
    "        x = [1,2,3]\n",
    "      \n",
    "        for j in x:\n",
    "            TC = timeInterpolation(imagen,j,i,True)\n",
    "            t_c += TC\n",
    "            y_c.append(TC)\n",
    "            TE = timeInterpolation(imagen,j,i,False)\n",
    "            t_e += TE\n",
    "            y_e.append(TE)\n",
    "\n",
    "        t_e = t_e/3\n",
    "        t_c = t_c/3\n",
    "\n",
    "        if t_e < te_min:\n",
    "            te_min = t_e\n",
    "            me = i\n",
    "        if t_c < tc_min:\n",
    "            tc_min = t_c\n",
    "            mc = i\n",
    "            \n",
    "    y_eL = y_e[:3]\n",
    "    y_eN = y_e[3:6]\n",
    "    y_eS = y_e[6:]\n",
    "    \n",
    "    plt.plot(x,y_eL,\"o-\",label=\"Lagrange\")\n",
    "    plt.plot(x,y_eN,\"o-\",label=\"Newton\")\n",
    "    plt.plot(x,y_eS,\"o-\",label=\"Spline3\")\n",
    "    plt.grid(True)\n",
    "    plt.ylabel(\"Tiempo\")\n",
    "    plt.xlabel(\"Pixeles Internos\")\n",
    "    plt.title(\"Puntos Equiespaciados\")\n",
    "    plt.legend()\n",
    "    plt.show()\n",
    "    print(\"min: \", te_min,\" met: \"+me)\n",
    "    \n",
    "    \n",
    "    y_cL = y_c[:3]\n",
    "    y_cN = y_c[3:6]\n",
    "    y_cS = y_c[6:]\n",
    "    \n",
    "    plt.plot(x,y_cL,\"o-\",label=\"Lagrange\")\n",
    "    plt.plot(x,y_cN,\"o-\",label=\"Newton\")\n",
    "    plt.plot(x,y_cS,\"o-\",label=\"Spline3\")\n",
    "    plt.grid(True)\n",
    "    plt.ylabel(\"Tiempo\")\n",
    "    plt.xlabel(\"Pixeles Internos\")\n",
    "    plt.title(\"Puntos Chebychev\")\n",
    "    plt.legend()\n",
    "    plt.show()\n",
    "    print(\"min-Cheb: \", tc_min,\" met: \"+mc)"
   ]
  },
  {
   "cell_type": "markdown",
   "metadata": {},
   "source": [
    "## Imagen 1"
   ]
  },
  {
   "cell_type": "code",
   "execution_count": 10,
   "metadata": {},
   "outputs": [
    {
     "data": {
      "image/png": "[encoded data removed]",
      "text/plain": [
       "<Figure size 432x288 with 1 Axes>"
      ]
     },
     "metadata": {
      "needs_background": "light"
     },
     "output_type": "display_data"
    },
    {
     "name": "stdout",
     "output_type": "stream",
     "text": [
      "min:  3.9333879947662354  met: newton\n"
     ]
    },
    {
     "data": {
      "image/png": "[encoded data removed]",
      "text/plain": [
       "<Figure size 432x288 with 1 Axes>"
      ]
     },
     "metadata": {
      "needs_background": "light"
     },
     "output_type": "display_data"
    },
    {
     "name": "stdout",
     "output_type": "stream",
     "text": [
      "min-Cheb:  4.397366046905518  met: newton\n"
     ]
    }
   ],
   "source": [
    "'''\n",
    "tiempo(imagen1)\n",
    "'''"
   ]
  },
  {
   "cell_type": "markdown",
   "metadata": {},
   "source": [
    "## Imagen 2"
   ]
  },
  {
   "cell_type": "code",
   "execution_count": 11,
   "metadata": {},
   "outputs": [
    {
     "data": {
      "image/png": "[encoded data removed]",
      "text/plain": [
       "<Figure size 432x288 with 1 Axes>"
      ]
     },
     "metadata": {
      "needs_background": "light"
     },
     "output_type": "display_data"
    },
    {
     "name": "stdout",
     "output_type": "stream",
     "text": [
      "min:  3.8099414507548013  met: newton\n"
     ]
    },
    {
     "data": {
      "image/png": "[encoded data removed]",
      "text/plain": [
       "<Figure size 432x288 with 1 Axes>"
      ]
     },
     "metadata": {
      "needs_background": "light"
     },
     "output_type": "display_data"
    },
    {
     "name": "stdout",
     "output_type": "stream",
     "text": [
      "min-Cheb:  4.252854824066162  met: newton\n"
     ]
    }
   ],
   "source": [
    "'''\n",
    "tiempo(imagen2)\n",
    "'''"
   ]
  },
  {
   "cell_type": "markdown",
   "metadata": {},
   "source": [
    "## Imagen 3"
   ]
  },
  {
   "cell_type": "code",
   "execution_count": 12,
   "metadata": {},
   "outputs": [
    {
     "data": {
      "image/png": "[encoded data removed]",
      "text/plain": [
       "<Figure size 432x288 with 1 Axes>"
      ]
     },
     "metadata": {
      "needs_background": "light"
     },
     "output_type": "display_data"
    },
    {
     "name": "stdout",
     "output_type": "stream",
     "text": [
      "min:  16.21010700861613  met: newton\n"
     ]
    },
    {
     "data": {
      "image/png": "[encoded data removed]",
      "text/plain": [
       "<Figure size 432x288 with 1 Axes>"
      ]
     },
     "metadata": {
      "needs_background": "light"
     },
     "output_type": "display_data"
    },
    {
     "name": "stdout",
     "output_type": "stream",
     "text": [
      "min-Cheb:  18.485653003056843  met: newton\n"
     ]
    }
   ],
   "source": [
    "'''\n",
    "tiempo(imagen3)\n",
    "'''"
   ]
  },
  {
   "cell_type": "markdown",
   "metadata": {},
   "source": [
    "En los 6 casos evaluados el método de *Newton* fue el que obtuvo el menor tiempo."
   ]
  },
  {
   "cell_type": "markdown",
   "metadata": {},
   "source": [
    "### 2.2 Calculo de error\n",
    "Implemente la funcion `errorInterpolation` la cual debe obtener el error de la imagen obtenida comparandola con una de referencia. El error debe ser calculado utilizando el indice SSIM (Structural similarity) (5 puntos)"
   ]
  },
  {
   "cell_type": "code",
   "execution_count": 13,
   "metadata": {},
   "outputs": [],
   "source": [
    "def errorInterpolation(original,new):\n",
    "    \"\"\"\n",
    "    Parameters\n",
    "    ----------\n",
    "    image:\t(nxn array) original image array in RGB format\n",
    "    new:\t(nxn array) new image array in RGB format obtained from interpolation\n",
    "\n",
    "\n",
    "    Returns\n",
    "    -------\n",
    "    error:\t(float) difference between images \n",
    "\n",
    "    \"\"\"\n",
    "    n = original.shape[0]\n",
    "    error = structural_similarity(original,new,multichannel=True,data_range=n)\n",
    "    error = 1 - error\n",
    "    return error"
   ]
  },
  {
   "cell_type": "markdown",
   "metadata": {},
   "source": [
    "***Pregunta: ¿Cual metodo presenta menor error? (5 puntos)***"
   ]
  },
  {
   "cell_type": "markdown",
   "metadata": {},
   "source": [
    "**R-** se utilizan las 3 imagenes de prueba, resultando en 6 casos (2 casos para cada imagen). En cada caso se ejecutaron los tres métodos, y por cada método se valua con y sin puntos de Chebychev.\n"
   ]
  },
  {
   "cell_type": "markdown",
   "metadata": {},
   "source": [
    "### Luego de la ejecución se comentaron los bloques de código para no generar problemas en la revisón."
   ]
  },
  {
   "cell_type": "code",
   "execution_count": 14,
   "metadata": {},
   "outputs": [],
   "source": [
    "## Función que indica cuál método tiene menos error tanto para puntos Chebychev como para puntos equiespaciados.\n",
    "def Errores(imagen,original,interiorPixel):\n",
    "    \n",
    "    lagrange = bicubicInterpolation(imagen,interiorPixel,\"lagrange\",False)\n",
    "    e_lagrange = errorInterpolation(original, lagrange)\n",
    "\n",
    "    newton = bicubicInterpolation(imagen,interiorPixel,\"newton\",False)\n",
    "    e_newton = errorInterpolation(original, newton)\n",
    "\n",
    "    spline3 = bicubicInterpolation(imagen,interiorPixel,\"spline3\",False)\n",
    "    e_spline3 = errorInterpolation(original, spline3)\n",
    "\n",
    "    lagrange_C = bicubicInterpolation(imagen,interiorPixel,\"lagrange\",True)\n",
    "    e_lagrange_C = errorInterpolation(original, lagrange_C)\n",
    "\n",
    "    newton_C = bicubicInterpolation(imagen,interiorPixel,\"newton\",True)\n",
    "    e_newton_C = errorInterpolation(original, newton_C)\n",
    "\n",
    "    spline3_C = bicubicInterpolation(imagen,interiorPixel,\"spline3\",True)\n",
    "    e_spline3_C = errorInterpolation(original, spline3_C)\n",
    "\n",
    "\n",
    "    E = [e_lagrange,e_newton,e_spline3]\n",
    "    E_C = [e_lagrange_C,e_newton_C,e_spline3_C]\n",
    "\n",
    "    m = [\"lagrange\",\"newton\",\"spline3\"]\n",
    "\n",
    "    min_e = min(E)\n",
    "    min_e_C = min(E_C)\n",
    "\n",
    "    i = E.index(min_e)\n",
    "    i_C = E_C.index(min_e_C)\n",
    "\n",
    "    sm = \"\"\n",
    "    sm_C = \"\"\n",
    "\n",
    "    for i in range(3):\n",
    "        if min_e == E[i]:\n",
    "            sm += m[i]+\" \"\n",
    "\n",
    "        if min_e_C == E_C[i]:\n",
    "            sm_C += m[i]+\" \"\n",
    "\n",
    "    print(\"min: \",min_e, \"met: \"+sm)\n",
    "    print(\"min-Cheb: \",min_e_C, \"met: \"+sm_C)"
   ]
  },
  {
   "cell_type": "markdown",
   "metadata": {},
   "source": [
    "## Imagen 1\n",
    "\n",
    "Para la imagen 1 se considera un aumento de 1 y 4 pixeles interiores."
   ]
  },
  {
   "cell_type": "code",
   "execution_count": 15,
   "metadata": {},
   "outputs": [
    {
     "name": "stdout",
     "output_type": "stream",
     "text": [
      "gradient (50x50) con 1 pixel intermedio\n",
      "---------------------------------------\n",
      "min:  0.008964583483500377 met: lagrange newton spline3 \n",
      "min-Cheb:  0.00906725074972059 met: newton \n",
      "\n",
      "gradient (50x50) con 4 pixel intermedio\n",
      "---------------------------------------\n",
      "min:  0.011018066231233248 met: lagrange newton spline3 \n",
      "min-Cheb:  0.012450118194836324 met: newton \n"
     ]
    }
   ],
   "source": [
    "'''\n",
    "img = Image.open('imagenes_prueba/gradient_1pixel.png')\n",
    "original= np.array(img)\n",
    "\n",
    "img = Image.open('imagenes_prueba/gradient.png')\n",
    "imagen = np.array(img)\n",
    "\n",
    "print(\"gradient (50x50) con 1 pixel intermedio\")\n",
    "print(\"---------------------------------------\")\n",
    "Errores(imagen,original,1)\n",
    "\n",
    "img = Image.open('imagenes_prueba/gradient_4pixel.png')\n",
    "original= np.array(img)\n",
    "\n",
    "print(\"\\ngradient (50x50) con 4 pixel intermedio\")\n",
    "print(\"---------------------------------------\")\n",
    "Errores(imagen,original,4)\n",
    "'''"
   ]
  },
  {
   "cell_type": "markdown",
   "metadata": {},
   "source": [
    "## Imagen 2 \n",
    "\n",
    "Para la imagen 2 se considera un aumento de 1 y 4 pixeles interiores."
   ]
  },
  {
   "cell_type": "code",
   "execution_count": 16,
   "metadata": {},
   "outputs": [
    {
     "name": "stdout",
     "output_type": "stream",
     "text": [
      "cat (50x50) con 1 pixel intermedio\n",
      "---------------------------------------\n",
      "min:  0.18621051858210202 met: spline3 \n",
      "min-Cheb:  0.18891144551943573 met: spline3 \n",
      "\n",
      "cat (50x50) con 4 pixel intermedio\n",
      "---------------------------------------\n",
      "min:  0.3104568322304043 met: lagrange newton \n",
      "min-Cheb:  0.3139672585813297 met: spline3 \n"
     ]
    }
   ],
   "source": [
    "'''\n",
    "img = Image.open('imagenes_prueba/cat_1pixel.png').convert('RGB')\n",
    "original= np.array(img)\n",
    "\n",
    "img = Image.open('imagenes_prueba/cat.png').convert('RGB')\n",
    "imagen = np.array(img)\n",
    "\n",
    "print(\"cat (50x50) con 1 pixel intermedio\")\n",
    "print(\"---------------------------------------\")\n",
    "Errores(imagen,original,1)\n",
    "\n",
    "img = Image.open('imagenes_prueba/cat_4pixel.png').convert('RGB')\n",
    "original= np.array(img)\n",
    "\n",
    "print(\"\\ncat (50x50) con 4 pixel intermedio\")\n",
    "print(\"---------------------------------------\")\n",
    "Errores(imagen,original,4)\n",
    "'''"
   ]
  },
  {
   "cell_type": "markdown",
   "metadata": {},
   "source": [
    "## Imagen 3\n",
    "\n",
    "Para la imagen 3 se considera un aumento de 1 y 2 pixeles interiores."
   ]
  },
  {
   "cell_type": "code",
   "execution_count": 17,
   "metadata": {},
   "outputs": [
    {
     "name": "stdout",
     "output_type": "stream",
     "text": [
      "sunset (100x100) con 1 pixel intermedio\n",
      "---------------------------------------\n",
      "min:  0.07398961484470712 met: spline3 \n",
      "min-Cheb:  0.07454650088108916 met: lagrange \n",
      "\n",
      "sunset (100x100) con 2 pixel intermedio\n",
      "---------------------------------------\n",
      "min:  0.08865940102286352 met: lagrange newton \n",
      "min-Cheb:  0.08956084786000795 met: newton \n"
     ]
    }
   ],
   "source": [
    "'''\n",
    "img = Image.open('imagenes_prueba/sunset_1pixel.png')\n",
    "original= np.array(img)\n",
    "\n",
    "img = Image.open('imagenes_prueba/sunset.png')\n",
    "imagen = np.array(img)\n",
    "\n",
    "print(\"sunset (100x100) con 1 pixel intermedio\")\n",
    "print(\"---------------------------------------\")\n",
    "Errores(imagen,original,1)\n",
    "\n",
    "img = Image.open('imagenes_prueba/sunset_2pixel.png')\n",
    "original= np.array(img)\n",
    "\n",
    "print(\"\\nsunset (100x100) con 2 pixel intermedio\")\n",
    "print(\"---------------------------------------\")\n",
    "Errores(imagen,original,2)\n",
    "'''"
   ]
  },
  {
   "cell_type": "markdown",
   "metadata": {},
   "source": [
    "En general no hay método que sea mejor que otro en cuanto al error, varía respecto a la imagen. Pero, en base a las imagenes usadas y los casos comparados Newton tiene 3 veces el mínimo error para puntos de Chebychev. En cunato a los puntos equiespaciados, los tres métodos aparecen 4 veces cómo mínimo."
   ]
  },
  {
   "cell_type": "markdown",
   "metadata": {},
   "source": [
    "# Consideraciones"
   ]
  },
  {
   "cell_type": "markdown",
   "metadata": {},
   "source": [
    "* Solo trabajaremos con imagenes cuadradas\n",
    "* En el caso que el valor interpolado de un punto sea mayor a 255 o menor a 0, este se trunca a 255 o 0 respectivamente\n",
    "* Esta permitido el uso de sympy para calcular derivadas y para construir el polinomio interpolador \n",
    "* El calculo de error puede ser calculado utilizando la imagen en escala de grises [(ejemplo)](https://scikit-image.org/docs/dev/auto_examples/transform/plot_ssim.html)\n",
    "* La ejecución del notebook completo demora alrededor de 30 min"
   ]
  },
  {
   "cell_type": "code",
   "execution_count": null,
   "metadata": {},
   "outputs": [],
   "source": []
  }
 ],
 "metadata": {
  "kernelspec": {
   "display_name": "Python 3",
   "language": "python",
   "name": "python3"
  },
  "language_info": {
   "codemirror_mode": {
    "name": "ipython",
    "version": 3
   },
   "file_extension": ".py",
   "mimetype": "text/x-python",
   "name": "python",
   "nbconvert_exporter": "python",
   "pygments_lexer": "ipython3",
   "version": "3.8.1"
  }
 },
 "nbformat": 4,
 "nbformat_minor": 4
}
